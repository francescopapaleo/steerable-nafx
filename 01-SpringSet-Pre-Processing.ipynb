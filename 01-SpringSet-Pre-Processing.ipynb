{
  "cells": [
    {
      "attachments": {},
      "cell_type": "markdown",
      "metadata": {
        "id": "R8F3RwyzNY0Z"
      },
      "source": [
        "# Spring Reverb Dataset: pre-processing and conversion"
      ]
    },
    {
      "cell_type": "code",
      "execution_count": 44,
      "metadata": {
        "id": "Vqu3t1D8_ePE"
      },
      "outputs": [],
      "source": [
        "import h5py\n",
        "import os\n",
        "import numpy as np\n",
        "import torch\n",
        "import torchaudio\n",
        "import pandas as pd\n",
        "from pathlib import Path\n",
        "import matplotlib.pyplot as plt\n",
        "import seaborn as sns\n",
        "import essentia as es\n",
        "import essentia.standard as estd\n",
        "import essentia.streaming as esstr\n",
        "import librosa\n",
        "\n",
        "from src.utils import get_media_length\n",
        "%matplotlib inline"
      ]
    },
    {
      "attachments": {},
      "cell_type": "markdown",
      "metadata": {
        "id": "OxO84nYc6IL-"
      },
      "source": [
        "## Download the dataset\n",
        "\n",
        "The dataset is available at the following link: https://zenodo.org/record/3746119\n",
        "\n",
        "A [Python Script](download_dataset.py) is provided to download the dataset and extract it in the current directory."
      ]
    },
    {
      "cell_type": "code",
      "execution_count": 45,
      "metadata": {
        "colab": {
          "base_uri": "https://localhost:8080/"
        },
        "id": "-uMwmEk9jQsV",
        "outputId": "8e7aaad0-c62b-49b2-b00b-ee332a2fd6a0"
      },
      "outputs": [],
      "source": [
        "# Setting up the directories and the sample rate\n",
        "\n",
        "CONVERTED_DIR = \"audio/springset_converted\"\n",
        "PROCESSED_DIR = \"audio/processed\"\n",
        "RESULTS_DIR = \"results/\"\n",
        "MODELS_DIR = \"models/\"\n",
        "\n",
        "sample_rate = 16000\n",
        "\n",
        "DATA_DIR = \"../datasets/plate-spring/\"\n",
        "spring_dir = Path(DATA_DIR) / 'spring'"
      ]
    },
    {
      "cell_type": "code",
      "execution_count": 46,
      "metadata": {},
      "outputs": [
        {
          "name": "stdout",
          "output_type": "stream",
          "text": [
            "Summary of the h5py configuration\n",
            "---------------------------------\n",
            "\n",
            "h5py    3.9.0\n",
            "HDF5    1.12.2\n",
            "Python  3.11.4 (main, Aug 16 2023, 17:56:40) [Clang 12.0.0 (clang-1200.0.32.29)]\n",
            "sys.platform    darwin\n",
            "sys.maxsize     9223372036854775807\n",
            "numpy   1.24.3\n",
            "cython (built with) 0.29.35\n",
            "numpy (built against) 1.23.2\n",
            "HDF5 (built against) 1.12.2\n",
            "\n"
          ]
        }
      ],
      "source": [
        "print(h5py.version.info)"
      ]
    },
    {
      "attachments": {},
      "cell_type": "markdown",
      "metadata": {},
      "source": [
        "## Read the data"
      ]
    },
    {
      "cell_type": "code",
      "execution_count": 47,
      "metadata": {},
      "outputs": [
        {
          "name": "stdout",
          "output_type": "stream",
          "text": [
            "File: wet_val_test.h5\n",
            "Keys: Yvalidation_0\n",
            "No metadata attributes found.\n",
            "Type of ['Yvalidation_0']: <class 'numpy.ndarray'>\n",
            "Data shape: (64, 32000, 1)\n",
            "Data type: float64\n",
            "\n",
            "File: wet_train.h5\n",
            "Keys: Ytrain_0\n",
            "No metadata attributes found.\n",
            "Type of ['Ytrain_0']: <class 'numpy.ndarray'>\n",
            "Data shape: (1122, 32000, 1)\n",
            "Data type: float64\n",
            "\n",
            "File: dry_train.h5\n",
            "Keys: Xtrain\n",
            "No metadata attributes found.\n",
            "Type of ['Xtrain']: <class 'numpy.ndarray'>\n",
            "Data shape: (1122, 32000, 1)\n",
            "Data type: float64\n",
            "\n",
            "File: dry_val_test.h5\n",
            "Keys: Xvalidation\n",
            "No metadata attributes found.\n",
            "Type of ['Xvalidation']: <class 'numpy.ndarray'>\n",
            "Data shape: (64, 32000, 1)\n",
            "Data type: float64\n",
            "\n"
          ]
        }
      ],
      "source": [
        "# List and read the files in the dataset folder\n",
        "\n",
        "data_dict = {}\n",
        "\n",
        "for file in os.listdir(spring_dir):\n",
        "    if file.endswith(('.h5')):\n",
        "        file_path = os.path.join(spring_dir, file)\n",
        "        with h5py.File(os.path.join(spring_dir, file), 'r') as f_handler:\n",
        "            key = list(f_handler.keys())[0]\n",
        "            data = f_handler[key]\n",
        "            print(f\"File: {file}\")\n",
        "            print(f\"Keys: {key}\")\n",
        "            if len(data.attrs) > 0:\n",
        "                print(\"Metadata attributes found:\")\n",
        "            for attr_name, attr_value in data.attrs.items():\n",
        "                print(f\"{attr_name}: {attr_value}\")\n",
        "            else:\n",
        "                print(\"No metadata attributes found.\")\n",
        "            \n",
        "            print(f\"Type of ['{key}']: {type(data[:])}\")\n",
        "            print(f\"Data shape: {data.shape}\")\n",
        "            print(f\"Data type: {data.dtype}\")\n",
        "    \n",
        "            data_dict[key] = data[:]  \n",
        "\n",
        "            print(\"\")"
      ]
    },
    {
      "attachments": {},
      "cell_type": "markdown",
      "metadata": {},
      "source": [
        "***The data is organized in the following way: `(index, samples, channels)`***\n",
        "\n",
        "No attributes have been found in the data."
      ]
    },
    {
      "cell_type": "code",
      "execution_count": 48,
      "metadata": {},
      "outputs": [
        {
          "name": "stdout",
          "output_type": "stream",
          "text": [
            "Xtrain shape: (1122, 32000, 1)\n",
            "Ytrain shape: (1122, 32000, 1)\n",
            "Xtest shape: (64, 32000, 1)\n",
            "Ytest shape: (64, 32000, 1)\n"
          ]
        }
      ],
      "source": [
        "# Load each part of the dataset into a variable\n",
        "X_train = data_dict['Xtrain']\n",
        "Y_train = data_dict['Ytrain_0']\n",
        "X_test = data_dict['Xvalidation']\n",
        "Y_test = data_dict['Yvalidation_0']\n",
        "\n",
        "# Print the shape of each part of the dataset\n",
        "print('Xtrain shape:', X_train.shape)\n",
        "print('Ytrain shape:', Y_train.shape)\n",
        "print('Xtest shape:', X_test.shape)\n",
        "print('Ytest shape:', Y_test.shape)"
      ]
    },
    {
      "attachments": {},
      "cell_type": "markdown",
      "metadata": {},
      "source": [
        "## Create a random subset and convert it to .wav"
      ]
    },
    {
      "cell_type": "code",
      "execution_count": 49,
      "metadata": {},
      "outputs": [
        {
          "name": "stdout",
          "output_type": "stream",
          "text": [
            "(64, 32000, 1) (64, 32000, 1) (64, 32000, 1) (64, 32000, 1)\n"
          ]
        }
      ],
      "source": [
        "# Set the number of random samples to select\n",
        "num_samples = 64\n",
        "\n",
        "# Select random samples from Xtrain and Ytrain_0\n",
        "random_indices = np.random.choice(len(X_train), size=num_samples, replace=False)\n",
        "\n",
        "rand_X_train = X_train[random_indices]\n",
        "rand_Y_train = Y_train[random_indices]\n",
        "\n",
        "# Select random samples from Xvalidation and Yvalidation_0\n",
        "random_indices = np.random.choice(len(X_test), size=num_samples, replace=False)\n",
        "\n",
        "rand_X_test = X_test[random_indices]\n",
        "rand_Y_test = Y_test[random_indices]\n",
        "\n",
        "print(rand_X_train.shape, rand_Y_train.shape, rand_X_test.shape, rand_Y_test.shape)"
      ]
    },
    {
      "cell_type": "code",
      "execution_count": 50,
      "metadata": {
        "id": "VPua6oY7DapD"
      },
      "outputs": [
        {
          "name": "stdout",
          "output_type": "stream",
          "text": [
            "(2048000, 1) (2048000, 1) (2048000, 1) (2048000, 1)\n"
          ]
        }
      ],
      "source": [
        "# Stack the randomly selected samples for Xtrain and Ytrain_0\n",
        "stack_X_train = np.vstack(rand_X_train)\n",
        "stack_Y_train = np.vstack(rand_Y_train)\n",
        "\n",
        "# Stack the randomly selected samples for Xvalidation and Yvalidation_0\n",
        "stack_X_test = np.vstack(rand_X_test)\n",
        "stack_Y_test = np.vstack(rand_Y_test)\n",
        "\n",
        "print(stack_X_train.shape, stack_Y_train.shape, stack_X_test.shape, stack_Y_test.shape)"
      ]
    },
    {
      "cell_type": "code",
      "execution_count": 51,
      "metadata": {},
      "outputs": [
        {
          "name": "stdout",
          "output_type": "stream",
          "text": [
            "audio (2048000, 1)\n",
            "audio tensor: torch.Size([1, 2048000])\n",
            "----------\n",
            "Source: audio/springset_converted/stack_X_train.wav\n",
            "----------\n",
            " - File size: 4096044 bytes\n",
            " - AudioMetaData(sample_rate=16000, num_frames=2048000, num_channels=1, bits_per_sample=16, encoding=PCM_S)\n",
            "\n",
            "audio (2048000, 1)\n",
            "audio tensor: torch.Size([1, 2048000])\n",
            "----------\n",
            "Source: audio/springset_converted/stack_Y_train.wav\n",
            "----------\n",
            " - File size: 4096044 bytes\n",
            " - AudioMetaData(sample_rate=16000, num_frames=2048000, num_channels=1, bits_per_sample=16, encoding=PCM_S)\n",
            "\n",
            "audio (2048000, 1)\n",
            "audio tensor: torch.Size([1, 2048000])\n",
            "----------\n",
            "Source: audio/springset_converted/stack_X_test.wav\n",
            "----------\n",
            " - File size: 4096044 bytes\n",
            " - AudioMetaData(sample_rate=16000, num_frames=2048000, num_channels=1, bits_per_sample=16, encoding=PCM_S)\n",
            "\n",
            "audio (2048000, 1)\n",
            "audio tensor: torch.Size([1, 2048000])\n",
            "----------\n",
            "Source: audio/springset_converted/stack_Y_test.wav\n",
            "----------\n",
            " - File size: 4096044 bytes\n",
            " - AudioMetaData(sample_rate=16000, num_frames=2048000, num_channels=1, bits_per_sample=16, encoding=PCM_S)\n",
            "\n"
          ]
        }
      ],
      "source": [
        "def inspect_file(path):\n",
        "    print(\"-\" * 10)\n",
        "    print(\"Source:\", path)\n",
        "    print(\"-\" * 10)\n",
        "    print(f\" - File size: {os.path.getsize(path)} bytes\")\n",
        "    print(f\" - {torchaudio.info(path)}\")\n",
        "    print()\n",
        "    \n",
        "def save_as_wav(audio, sample_rate, filename):\n",
        "    print(f\"audio {audio.shape}\")\n",
        "\n",
        "    # Convert float64 to float32\n",
        "    audio = audio.astype(np.float32)\n",
        "    audio_tensor = torch.from_numpy(audio).transpose(0, 1)  # Transpose the tensor\n",
        "    print(f\"audio tensor: {audio_tensor.shape}\")\n",
        "    \n",
        "    # audio_norm = normalize_audio(audio_tensor)\n",
        "    # print(f\"audio norm: {audio_norm.shape}\")\n",
        "\n",
        "    # Save audio as wav file\n",
        "    filename = os.path.join(CONVERTED_DIR, filename)\n",
        "    torchaudio.save(filename, audio_tensor, sample_rate, bits_per_sample=16, channels_first=True)\n",
        "    inspect_file(filename)\n",
        "\n",
        "save_as_wav(stack_X_train, sample_rate, 'stack_X_train.wav')\n",
        "save_as_wav(stack_Y_train, sample_rate, 'stack_Y_train.wav')\n",
        "save_as_wav(stack_X_test, sample_rate, 'stack_X_test.wav')\n",
        "save_as_wav(stack_Y_test, sample_rate, 'stack_Y_test.wav')\n"
      ]
    },
    {
      "attachments": {},
      "cell_type": "markdown",
      "metadata": {},
      "source": [
        "## Extract audio features using essentia.streaming"
      ]
    },
    {
      "cell_type": "code",
      "execution_count": 52,
      "metadata": {},
      "outputs": [],
      "source": [
        "files = [\"stack_X_train.wav\", \"stack_Y_train.wav\", \"stack_X_test.wav\", \"stack_Y_test.wav\"]\n",
        "# df = pd.DataFrame()\n",
        "features = {'file': [], 'gain': [], 'leq': [], 'loudness.mean': [], 'centroid.mean': [], 'pitch.mean': [], 'confidence.mean': []}\n",
        "\n",
        "for file in files:\n",
        "    # Set the full path\n",
        "    full_path = os.path.join(CONVERTED_DIR, file)\n",
        "    \n",
        "    pool = es.Pool()\n",
        "\n",
        "    # Instantiate the algorithms\n",
        "    loader = esstr.MonoLoader(filename=full_path, sampleRate=sample_rate)\n",
        "    fcut = esstr.FrameCutter(frameSize=2048, hopSize=1024)\n",
        "    w = esstr.Windowing(type='hann')\n",
        "    spec = esstr.Spectrum(size=2048)\n",
        "    \n",
        "    gain = esstr.ReplayGain(sampleRate=sample_rate)\n",
        "    leq = esstr.Leq()\n",
        "    loudness = esstr.Loudness()\n",
        "    centroid = esstr.SpectralCentroidTime(sampleRate=sample_rate)\n",
        "    pitch = esstr.PitchYin(sampleRate=sample_rate)\n",
        "\n",
        "    # Connect the algorithms\n",
        "    loader.audio >> fcut.signal\n",
        "    fcut.frame >> centroid.array\n",
        "    fcut.frame >> loudness.signal\n",
        "\n",
        "    fcut.frame >> pitch.signal\n",
        "   \n",
        "    loader.audio >> gain.signal\n",
        "    loader.audio >> leq.signal\n",
        "    \n",
        "    # Create a pool and output algorithms\n",
        "    gain.replayGain >> (pool, 'gain')\n",
        "    leq.leq >> (pool, 'leq')\n",
        "    loudness.loudness >> (pool, 'loudness')\n",
        "    centroid.centroid >> (pool, 'centroid')\n",
        "    pitch.pitch >> (pool, 'pitch')\n",
        "    pitch.pitchConfidence >> (pool, 'confidence')\n",
        "\n",
        "    # Run the network\n",
        "    es.run(loader)\n",
        "\n",
        "    aggrpool = estd.PoolAggregator(defaultStats = [\"mean\"])(pool)    \n",
        "    descriptors = aggrpool.descriptorNames()\n",
        "\n",
        "    features['file'].append(file)\n",
        "    for feature in ['gain', 'leq', 'loudness.mean', 'centroid.mean', 'pitch.mean', 'confidence.mean']:\n",
        "        features[feature].append(np.array(aggrpool[feature]).flatten()[0])"
      ]
    },
    {
      "cell_type": "code",
      "execution_count": 53,
      "metadata": {},
      "outputs": [
        {
          "data": {
            "text/html": [
              "<div>\n",
              "<style scoped>\n",
              "    .dataframe tbody tr th:only-of-type {\n",
              "        vertical-align: middle;\n",
              "    }\n",
              "\n",
              "    .dataframe tbody tr th {\n",
              "        vertical-align: top;\n",
              "    }\n",
              "\n",
              "    .dataframe thead th {\n",
              "        text-align: right;\n",
              "    }\n",
              "</style>\n",
              "<table border=\"1\" class=\"dataframe\">\n",
              "  <thead>\n",
              "    <tr style=\"text-align: right;\">\n",
              "      <th></th>\n",
              "      <th>file</th>\n",
              "      <th>gain</th>\n",
              "      <th>leq</th>\n",
              "      <th>loudness.mean</th>\n",
              "      <th>centroid.mean</th>\n",
              "      <th>pitch.mean</th>\n",
              "      <th>confidence.mean</th>\n",
              "    </tr>\n",
              "  </thead>\n",
              "  <tbody>\n",
              "    <tr>\n",
              "      <th>0</th>\n",
              "      <td>stack_X_train.wav</td>\n",
              "      <td>-14.437654</td>\n",
              "      <td>-13.792520</td>\n",
              "      <td>16.183622</td>\n",
              "      <td>569.067261</td>\n",
              "      <td>323.505585</td>\n",
              "      <td>0.804129</td>\n",
              "    </tr>\n",
              "    <tr>\n",
              "      <th>1</th>\n",
              "      <td>stack_Y_train.wav</td>\n",
              "      <td>-13.533178</td>\n",
              "      <td>-13.158243</td>\n",
              "      <td>15.613602</td>\n",
              "      <td>425.980865</td>\n",
              "      <td>200.267532</td>\n",
              "      <td>0.866462</td>\n",
              "    </tr>\n",
              "    <tr>\n",
              "      <th>2</th>\n",
              "      <td>stack_X_test.wav</td>\n",
              "      <td>-14.182983</td>\n",
              "      <td>-13.924204</td>\n",
              "      <td>15.983893</td>\n",
              "      <td>532.663635</td>\n",
              "      <td>326.559235</td>\n",
              "      <td>0.832318</td>\n",
              "    </tr>\n",
              "    <tr>\n",
              "      <th>3</th>\n",
              "      <td>stack_Y_test.wav</td>\n",
              "      <td>-13.199451</td>\n",
              "      <td>-13.639121</td>\n",
              "      <td>14.900124</td>\n",
              "      <td>435.724243</td>\n",
              "      <td>183.622070</td>\n",
              "      <td>0.872367</td>\n",
              "    </tr>\n",
              "  </tbody>\n",
              "</table>\n",
              "</div>"
            ],
            "text/plain": [
              "                file       gain        leq  loudness.mean  centroid.mean  \\\n",
              "0  stack_X_train.wav -14.437654 -13.792520      16.183622     569.067261   \n",
              "1  stack_Y_train.wav -13.533178 -13.158243      15.613602     425.980865   \n",
              "2   stack_X_test.wav -14.182983 -13.924204      15.983893     532.663635   \n",
              "3   stack_Y_test.wav -13.199451 -13.639121      14.900124     435.724243   \n",
              "\n",
              "   pitch.mean  confidence.mean  \n",
              "0  323.505585         0.804129  \n",
              "1  200.267532         0.866462  \n",
              "2  326.559235         0.832318  \n",
              "3  183.622070         0.872367  "
            ]
          },
          "execution_count": 53,
          "metadata": {},
          "output_type": "execute_result"
        }
      ],
      "source": [
        "df = pd.DataFrame(features)\n",
        "df"
      ]
    },
    {
      "cell_type": "code",
      "execution_count": 54,
      "metadata": {},
      "outputs": [
        {
          "data": {
            "image/png": "[encoded data removed]",
            "text/plain": [
              "<Figure size 1000x400 with 2 Axes>"
            ]
          },
          "metadata": {},
          "output_type": "display_data"
        }
      ],
      "source": [
        "summary_df = df.set_index('file')\n",
        "\n",
        "plt.figure(figsize=(10,4))\n",
        "heatmap = sns.heatmap(summary_df.astype(float), annot=True, fmt=\".3f\", cmap='RdBu')\n",
        "\n",
        "plt.title('Heatmap of Mean Values')\n",
        "plt.xlabel('Descriptors')\n",
        "\n",
        "heatmap.set_yticklabels(heatmap.get_yticklabels(), rotation=45)\n",
        "heatmap.set_xticklabels(heatmap.get_xticklabels(), rotation=45)\n",
        "\n",
        "plt.show()"
      ]
    },
    {
      "attachments": {},
      "cell_type": "markdown",
      "metadata": {},
      "source": [
        "## Some audio features computed with librosa and torchaudio "
      ]
    },
    {
      "cell_type": "code",
      "execution_count": 55,
      "metadata": {},
      "outputs": [],
      "source": [
        "def compute_audio_features(path, sample_rate):\n",
        "    # Load audio file\n",
        "    waveform, _ = torchaudio.load(path)\n",
        "    \n",
        "    # Compute loudness\n",
        "    loudness_transform = torchaudio.transforms.Loudness(sample_rate)\n",
        "    loudness = loudness_transform(waveform).item()\n",
        "    \n",
        "    # Compute spectral centroid with torchaudio\n",
        "    centroid_transform = torchaudio.transforms.SpectralCentroid(sample_rate)\n",
        "    centroid_torchaudio = centroid_transform(waveform).mean().item()\n",
        "    \n",
        "    # Compute spectral centroid with librosa\n",
        "    audio, _ = librosa.load(path, sr=sample_rate)\n",
        "    centroid_librosa, std_librosa = librosa.feature.spectral_centroid(y=audio, sr=sample_rate)[0].mean(), \\\n",
        "                                     librosa.feature.spectral_centroid(y=audio, sr=sample_rate)[0].std()\n",
        "    \n",
        "    return loudness, centroid_torchaudio, centroid_librosa, std_librosa"
      ]
    },
    {
      "cell_type": "code",
      "execution_count": 56,
      "metadata": {},
      "outputs": [],
      "source": [
        "files = [\"stack_X_train.wav\", \"stack_Y_train.wav\", \"stack_X_test.wav\", \"stack_Y_test.wav\"]\n",
        "df_librosa = pd.DataFrame()\n",
        "\n",
        "# Iterate over the files\n",
        "for file in files:\n",
        "    # Set the full path\n",
        "    full_path = os.path.join(CONVERTED_DIR, file)\n",
        "    \n",
        "    # Compute the features\n",
        "    loudness, centroid_torch, centroid_librosa, std_librosa = compute_audio_features(full_path, sample_rate)\n",
        "    \n",
        "    # Create a dictionary to store the features\n",
        "    features = {'filename': file,\n",
        "                'loudness': loudness,\n",
        "                'centroid_torchaudio': centroid_torch,\n",
        "                'centroid_librosa': centroid_librosa,\n",
        "                'std_librosa': std_librosa}\n",
        "    \n",
        "    # Convert to DataFrame\n",
        "    df_current = pd.DataFrame([features])\n",
        "\n",
        "    # Append to the main DataFrame\n",
        "    df_librosa = pd.concat([df_librosa, df_current])\n",
        "\n",
        "# Reset the index of the DataFrame\n",
        "df_librosa.reset_index(drop=True, inplace=True)\n"
      ]
    },
    {
      "cell_type": "code",
      "execution_count": 57,
      "metadata": {},
      "outputs": [
        {
          "data": {
            "text/html": [
              "<div>\n",
              "<style scoped>\n",
              "    .dataframe tbody tr th:only-of-type {\n",
              "        vertical-align: middle;\n",
              "    }\n",
              "\n",
              "    .dataframe tbody tr th {\n",
              "        vertical-align: top;\n",
              "    }\n",
              "\n",
              "    .dataframe thead th {\n",
              "        text-align: right;\n",
              "    }\n",
              "</style>\n",
              "<table border=\"1\" class=\"dataframe\">\n",
              "  <thead>\n",
              "    <tr style=\"text-align: right;\">\n",
              "      <th></th>\n",
              "      <th>filename</th>\n",
              "      <th>loudness</th>\n",
              "      <th>centroid_torchaudio</th>\n",
              "      <th>centroid_librosa</th>\n",
              "      <th>std_librosa</th>\n",
              "    </tr>\n",
              "  </thead>\n",
              "  <tbody>\n",
              "    <tr>\n",
              "      <th>0</th>\n",
              "      <td>stack_X_train.wav</td>\n",
              "      <td>-13.508</td>\n",
              "      <td>NaN</td>\n",
              "      <td>744.657</td>\n",
              "      <td>728.409</td>\n",
              "    </tr>\n",
              "    <tr>\n",
              "      <th>1</th>\n",
              "      <td>stack_Y_train.wav</td>\n",
              "      <td>-12.380</td>\n",
              "      <td>797.359</td>\n",
              "      <td>794.880</td>\n",
              "      <td>847.941</td>\n",
              "    </tr>\n",
              "    <tr>\n",
              "      <th>2</th>\n",
              "      <td>stack_X_test.wav</td>\n",
              "      <td>-13.740</td>\n",
              "      <td>NaN</td>\n",
              "      <td>749.383</td>\n",
              "      <td>757.073</td>\n",
              "    </tr>\n",
              "    <tr>\n",
              "      <th>3</th>\n",
              "      <td>stack_Y_test.wav</td>\n",
              "      <td>-12.927</td>\n",
              "      <td>791.628</td>\n",
              "      <td>779.919</td>\n",
              "      <td>841.741</td>\n",
              "    </tr>\n",
              "  </tbody>\n",
              "</table>\n",
              "</div>"
            ],
            "text/plain": [
              "            filename  loudness  centroid_torchaudio  centroid_librosa  \\\n",
              "0  stack_X_train.wav   -13.508                  NaN           744.657   \n",
              "1  stack_Y_train.wav   -12.380              797.359           794.880   \n",
              "2   stack_X_test.wav   -13.740                  NaN           749.383   \n",
              "3   stack_Y_test.wav   -12.927              791.628           779.919   \n",
              "\n",
              "   std_librosa  \n",
              "0      728.409  \n",
              "1      847.941  \n",
              "2      757.073  \n",
              "3      841.741  "
            ]
          },
          "execution_count": 57,
          "metadata": {},
          "output_type": "execute_result"
        }
      ],
      "source": [
        "# Round to 3 decimal places\n",
        "df_librosa = df_librosa.round(3)\n",
        "\n",
        "df_librosa"
      ]
    },
    {
      "cell_type": "code",
      "execution_count": 58,
      "metadata": {},
      "outputs": [
        {
          "name": "stdout",
          "output_type": "stream",
          "text": [
            "Files in directory: audio/springset_converted\n",
            "\n",
            "Processing file: audio/springset_converted/stack_Y_train.wav\n",
            "Length in audio/springset_converted/stack_Y_train.wav: 2 minutes, 8.00 seconds\n",
            "Number of elements in audio/springset_converted/stack_Y_train.wav: 2048000\n",
            "\n",
            "Processing file: audio/springset_converted/stack_X_test.wav\n",
            "Length in audio/springset_converted/stack_X_test.wav: 2 minutes, 8.00 seconds\n",
            "Number of elements in audio/springset_converted/stack_X_test.wav: 2048000\n",
            "\n",
            "Processing file: audio/springset_converted/stack_Y_test.wav\n",
            "Length in audio/springset_converted/stack_Y_test.wav: 2 minutes, 8.00 seconds\n",
            "Number of elements in audio/springset_converted/stack_Y_test.wav: 2048000\n",
            "\n",
            "Processing file: audio/springset_converted/stack_X_train.wav\n",
            "Length in audio/springset_converted/stack_X_train.wav: 2 minutes, 8.00 seconds\n",
            "Number of elements in audio/springset_converted/stack_X_train.wav: 2048000\n",
            "\n"
          ]
        }
      ],
      "source": [
        "get_media_length(CONVERTED_DIR)"
      ]
    },
    {
      "cell_type": "code",
      "execution_count": 59,
      "metadata": {},
      "outputs": [
        {
          "name": "stdout",
          "output_type": "stream",
          "text": [
            "Help on class Pool in module essentia.common:\n",
            "\n",
            "class Pool(builtins.object)\n",
            " |  Pool(poolRep=None)\n",
            " |  \n",
            " |  Methods defined here:\n",
            " |  \n",
            " |  __getitem__(self, key)\n",
            " |  \n",
            " |  __init__(self, poolRep=None)\n",
            " |      Initialize self.  See help(type(self)) for accurate signature.\n",
            " |  \n",
            " |  add(self, key, value, validityCheck=False)\n",
            " |  \n",
            " |  clear(self)\n",
            " |  \n",
            " |  containsKey(self, key)\n",
            " |  \n",
            " |  descriptorNames(self, key=None)\n",
            " |  \n",
            " |  isSingleValue(self, name)\n",
            " |  \n",
            " |  merge(self, arg1, arg2=None, arg3=None)\n",
            " |  \n",
            " |  mergeSingle(self, key, value, mergeType='')\n",
            " |  \n",
            " |  remove(self, key)\n",
            " |  \n",
            " |  removeNamespace(self, namespace)\n",
            " |  \n",
            " |  set(self, key, value, validityCheck=False)\n",
            " |  \n",
            " |  ----------------------------------------------------------------------\n",
            " |  Data descriptors defined here:\n",
            " |  \n",
            " |  __dict__\n",
            " |      dictionary for instance variables (if defined)\n",
            " |  \n",
            " |  __weakref__\n",
            " |      list of weak references to the object (if defined)\n",
            "\n"
          ]
        }
      ],
      "source": [
        "help(es.Pool)"
      ]
    }
  ],
  "metadata": {
    "colab": {
      "include_colab_link": true,
      "provenance": []
    },
    "gpuClass": "standard",
    "kernelspec": {
      "display_name": "Python 3",
      "name": "python3"
    },
    "language_info": {
      "codemirror_mode": {
        "name": "ipython",
        "version": 3
      },
      "file_extension": ".py",
      "mimetype": "text/x-python",
      "name": "python",
      "nbconvert_exporter": "python",
      "pygments_lexer": "ipython3",
      "version": "3.11.4"
    }
  },
  "nbformat": 4,
  "nbformat_minor": 0
}
