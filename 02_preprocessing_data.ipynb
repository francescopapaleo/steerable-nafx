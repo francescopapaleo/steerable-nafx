{
  "cells": [
    {
      "attachments": {},
      "cell_type": "markdown",
      "metadata": {
        "id": "R8F3RwyzNY0Z"
      },
      "source": [
        "# Pre-processing of the SpringSet"
      ]
    },
    {
      "cell_type": "code",
      "execution_count": 2,
      "metadata": {
        "id": "Vqu3t1D8_ePE"
      },
      "outputs": [],
      "source": [
        "import h5py\n",
        "import os\n",
        "import numpy as np\n",
        "import torch\n",
        "import torchaudio\n",
        "import pandas as pd\n",
        "from pathlib import Path\n",
        "import matplotlib.pyplot as plt\n",
        "import seaborn as sns\n",
        "import essentia as es\n",
        "import essentia.standard as estd\n",
        "import essentia.streaming as esstr\n",
        "import librosa\n",
        "\n",
        "# from src.utils import get_media_length\n",
        "%matplotlib inline"
      ]
    },
    {
      "attachments": {},
      "cell_type": "markdown",
      "metadata": {
        "id": "OxO84nYc6IL-"
      },
      "source": [
        "### Download the dataset\n",
        "\n",
        "The dataset link: https://zenodo.org/record/3746119"
      ]
    },
    {
      "cell_type": "code",
      "execution_count": 18,
      "metadata": {
        "colab": {
          "base_uri": "https://localhost:8080/"
        },
        "id": "-uMwmEk9jQsV",
        "outputId": "8e7aaad0-c62b-49b2-b00b-ee332a2fd6a0"
      },
      "outputs": [],
      "source": [
        "CONVERTED_DIR = \"data/springset_converted\"\n",
        "PROCESSED_DIR = \"data/processed\"\n",
        "MODELS_DIR = \"models/\"\n",
        "\n",
        "os.makedirs(CONVERTED_DIR, exist_ok=True)\n",
        "os.makedirs(PROCESSED_DIR, exist_ok=True)\n",
        "\n",
        "sample_rate = 16000\n",
        "\n",
        "DATA_DIR = '../neural-audio-spring-reverb/data/raw/'\n",
        "spring_dir = Path(DATA_DIR) / 'springset'"
      ]
    },
    {
      "cell_type": "code",
      "execution_count": 12,
      "metadata": {},
      "outputs": [
        {
          "name": "stdout",
          "output_type": "stream",
          "text": [
            "Summary of the h5py configuration\n",
            "---------------------------------\n",
            "\n",
            "h5py    3.9.0\n",
            "HDF5    1.12.2\n",
            "Python  3.11.4 (main, Aug 16 2023, 17:56:40) [Clang 12.0.0 (clang-1200.0.32.29)]\n",
            "sys.platform    darwin\n",
            "sys.maxsize     9223372036854775807\n",
            "numpy   1.24.3\n",
            "cython (built with) 0.29.35\n",
            "numpy (built against) 1.23.2\n",
            "HDF5 (built against) 1.12.2\n",
            "\n"
          ]
        }
      ],
      "source": [
        "print(h5py.version.info)"
      ]
    },
    {
      "attachments": {},
      "cell_type": "markdown",
      "metadata": {},
      "source": [
        "## Read the data"
      ]
    },
    {
      "cell_type": "code",
      "execution_count": 13,
      "metadata": {},
      "outputs": [
        {
          "name": "stdout",
          "output_type": "stream",
          "text": [
            "File: wet_val_test.h5\n",
            "Keys: Yvalidation_0\n",
            "No metadata attributes found.\n",
            "Type of ['Yvalidation_0']: <class 'numpy.ndarray'>\n",
            "Data shape: (64, 32000, 1)\n",
            "Data type: float64\n",
            "\n",
            "File: wet_train.h5\n",
            "Keys: Ytrain_0\n",
            "No metadata attributes found.\n",
            "Type of ['Ytrain_0']: <class 'numpy.ndarray'>\n",
            "Data shape: (1122, 32000, 1)\n",
            "Data type: float64\n",
            "\n",
            "File: dry_train.h5\n",
            "Keys: Xtrain\n",
            "No metadata attributes found.\n",
            "Type of ['Xtrain']: <class 'numpy.ndarray'>\n",
            "Data shape: (1122, 32000, 1)\n",
            "Data type: float64\n",
            "\n",
            "File: dry_val_test.h5\n",
            "Keys: Xvalidation\n",
            "No metadata attributes found.\n",
            "Type of ['Xvalidation']: <class 'numpy.ndarray'>\n",
            "Data shape: (64, 32000, 1)\n",
            "Data type: float64\n",
            "\n"
          ]
        }
      ],
      "source": [
        "# List and read the files in the dataset folder\n",
        "\n",
        "data_dict = {}\n",
        "\n",
        "for file in os.listdir(spring_dir):\n",
        "    if file.endswith(('.h5')):\n",
        "        file_path = os.path.join(spring_dir, file)\n",
        "        with h5py.File(os.path.join(spring_dir, file), 'r') as f_handler:\n",
        "            key = list(f_handler.keys())[0]\n",
        "            data = f_handler[key]\n",
        "            print(f\"File: {file}\")\n",
        "            print(f\"Keys: {key}\")\n",
        "            if len(data.attrs) > 0:\n",
        "                print(\"Metadata attributes found:\")\n",
        "            for attr_name, attr_value in data.attrs.items():\n",
        "                print(f\"{attr_name}: {attr_value}\")\n",
        "            else:\n",
        "                print(\"No metadata attributes found.\")\n",
        "            \n",
        "            print(f\"Type of ['{key}']: {type(data[:])}\")\n",
        "            print(f\"Data shape: {data.shape}\")\n",
        "            print(f\"Data type: {data.dtype}\")\n",
        "    \n",
        "            data_dict[key] = data[:]  \n",
        "\n",
        "            print(\"\")"
      ]
    },
    {
      "attachments": {},
      "cell_type": "markdown",
      "metadata": {},
      "source": [
        "***The data is organized in the following way: `(index, samples, channels)`***\n",
        "\n",
        "No attributes have been found in the data."
      ]
    },
    {
      "cell_type": "code",
      "execution_count": 14,
      "metadata": {},
      "outputs": [
        {
          "name": "stdout",
          "output_type": "stream",
          "text": [
            "Xtrain shape: (1122, 32000, 1)\n",
            "Ytrain shape: (1122, 32000, 1)\n",
            "Xtest shape: (64, 32000, 1)\n",
            "Ytest shape: (64, 32000, 1)\n"
          ]
        }
      ],
      "source": [
        "# Load each part of the dataset into a variable\n",
        "X_train = data_dict['Xtrain']\n",
        "Y_train = data_dict['Ytrain_0']\n",
        "X_test = data_dict['Xvalidation']\n",
        "Y_test = data_dict['Yvalidation_0']\n",
        "\n",
        "# Print the shape of each part of the dataset\n",
        "print('Xtrain shape:', X_train.shape)\n",
        "print('Ytrain shape:', Y_train.shape)\n",
        "print('Xtest shape:', X_test.shape)\n",
        "print('Ytest shape:', Y_test.shape)"
      ]
    },
    {
      "attachments": {},
      "cell_type": "markdown",
      "metadata": {},
      "source": [
        "## Create a random subset and convert it to .wav"
      ]
    },
    {
      "cell_type": "code",
      "execution_count": 15,
      "metadata": {},
      "outputs": [
        {
          "name": "stdout",
          "output_type": "stream",
          "text": [
            "(64, 32000, 1) (64, 32000, 1) (64, 32000, 1) (64, 32000, 1)\n"
          ]
        }
      ],
      "source": [
        "# Set the number of random samples to select\n",
        "num_samples = 64\n",
        "\n",
        "# Select random samples from Xtrain and Ytrain_0\n",
        "random_indices = np.random.choice(len(X_train), size=num_samples, replace=False)\n",
        "\n",
        "rand_X_train = X_train[random_indices]\n",
        "rand_Y_train = Y_train[random_indices]\n",
        "\n",
        "# Select random samples from Xvalidation and Yvalidation_0\n",
        "random_indices = np.random.choice(len(X_test), size=num_samples, replace=False)\n",
        "\n",
        "rand_X_test = X_test[random_indices]\n",
        "rand_Y_test = Y_test[random_indices]\n",
        "\n",
        "print(rand_X_train.shape, rand_Y_train.shape, rand_X_test.shape, rand_Y_test.shape)"
      ]
    },
    {
      "cell_type": "code",
      "execution_count": 16,
      "metadata": {
        "id": "VPua6oY7DapD"
      },
      "outputs": [
        {
          "name": "stdout",
          "output_type": "stream",
          "text": [
            "(2048000, 1) (2048000, 1) (2048000, 1) (2048000, 1)\n"
          ]
        }
      ],
      "source": [
        "# Stack the randomly selected samples for Xtrain and Ytrain_0\n",
        "stack_X_train = np.vstack(rand_X_train)\n",
        "stack_Y_train = np.vstack(rand_Y_train)\n",
        "\n",
        "# Stack the randomly selected samples for Xvalidation and Yvalidation_0\n",
        "stack_X_test = np.vstack(rand_X_test)\n",
        "stack_Y_test = np.vstack(rand_Y_test)\n",
        "\n",
        "print(stack_X_train.shape, stack_Y_train.shape, stack_X_test.shape, stack_Y_test.shape)"
      ]
    },
    {
      "cell_type": "code",
      "execution_count": 19,
      "metadata": {},
      "outputs": [
        {
          "name": "stdout",
          "output_type": "stream",
          "text": [
            "audio (2048000, 1)\n",
            "audio tensor: torch.Size([1, 2048000])\n",
            "----------\n",
            "Source: data/springset_converted/stack_X_train.wav\n",
            "----------\n",
            " - File size: 4096044 bytes\n",
            " - AudioMetaData(sample_rate=16000, num_frames=2048000, num_channels=1, bits_per_sample=16, encoding=PCM_S)\n",
            "\n",
            "audio (2048000, 1)\n",
            "audio tensor: torch.Size([1, 2048000])\n",
            "----------\n",
            "Source: data/springset_converted/stack_Y_train.wav\n",
            "----------\n",
            " - File size: 4096044 bytes\n",
            " - AudioMetaData(sample_rate=16000, num_frames=2048000, num_channels=1, bits_per_sample=16, encoding=PCM_S)\n",
            "\n",
            "audio (2048000, 1)\n",
            "audio tensor: torch.Size([1, 2048000])\n",
            "----------\n",
            "Source: data/springset_converted/stack_X_test.wav\n",
            "----------\n",
            " - File size: 4096044 bytes\n",
            " - AudioMetaData(sample_rate=16000, num_frames=2048000, num_channels=1, bits_per_sample=16, encoding=PCM_S)\n",
            "\n",
            "audio (2048000, 1)\n",
            "audio tensor: torch.Size([1, 2048000])\n",
            "----------\n",
            "Source: data/springset_converted/stack_Y_test.wav\n",
            "----------\n",
            " - File size: 4096044 bytes\n",
            " - AudioMetaData(sample_rate=16000, num_frames=2048000, num_channels=1, bits_per_sample=16, encoding=PCM_S)\n",
            "\n"
          ]
        }
      ],
      "source": [
        "def inspect_file(path):\n",
        "    print(\"-\" * 10)\n",
        "    print(\"Source:\", path)\n",
        "    print(\"-\" * 10)\n",
        "    print(f\" - File size: {os.path.getsize(path)} bytes\")\n",
        "    print(f\" - {torchaudio.info(path)}\")\n",
        "    print()\n",
        "    \n",
        "def save_as_wav(audio, sample_rate, filename):\n",
        "    print(f\"audio {audio.shape}\")\n",
        "\n",
        "    # Convert float64 to float32\n",
        "    audio = audio.astype(np.float32)\n",
        "    audio_tensor = torch.from_numpy(audio).transpose(0, 1)  # Transpose the tensor\n",
        "    print(f\"audio tensor: {audio_tensor.shape}\")\n",
        "    \n",
        "    # audio_norm = normalize_audio(audio_tensor)\n",
        "    # print(f\"audio norm: {audio_norm.shape}\")\n",
        "\n",
        "    # Save audio as wav file\n",
        "    filename = os.path.join(CONVERTED_DIR, filename)\n",
        "    torchaudio.save(filename, audio_tensor, sample_rate, bits_per_sample=16, channels_first=True)\n",
        "    inspect_file(filename)\n",
        "\n",
        "save_as_wav(stack_X_train, sample_rate, 'stack_X_train.wav')\n",
        "save_as_wav(stack_Y_train, sample_rate, 'stack_Y_train.wav')\n",
        "save_as_wav(stack_X_test, sample_rate, 'stack_X_test.wav')\n",
        "save_as_wav(stack_Y_test, sample_rate, 'stack_Y_test.wav')\n"
      ]
    },
    {
      "attachments": {},
      "cell_type": "markdown",
      "metadata": {},
      "source": [
        "## Extract audio features using essentia.streaming"
      ]
    },
    {
      "cell_type": "code",
      "execution_count": 20,
      "metadata": {},
      "outputs": [],
      "source": [
        "files = [\"stack_X_train.wav\", \"stack_Y_train.wav\", \"stack_X_test.wav\", \"stack_Y_test.wav\"]\n",
        "# df = pd.DataFrame()\n",
        "features = {'file': [], 'gain': [], 'leq': [], 'loudness.mean': [], 'centroid.mean': [], 'pitch.mean': [], 'confidence.mean': []}\n",
        "\n",
        "for file in files:\n",
        "    # Set the full path\n",
        "    full_path = os.path.join(CONVERTED_DIR, file)\n",
        "    \n",
        "    pool = es.Pool()\n",
        "\n",
        "    # Instantiate the algorithms\n",
        "    loader = esstr.MonoLoader(filename=full_path, sampleRate=sample_rate)\n",
        "    fcut = esstr.FrameCutter(frameSize=2048, hopSize=1024)\n",
        "    w = esstr.Windowing(type='hann')\n",
        "    spec = esstr.Spectrum(size=2048)\n",
        "    \n",
        "    gain = esstr.ReplayGain(sampleRate=sample_rate)\n",
        "    leq = esstr.Leq()\n",
        "    loudness = esstr.Loudness()\n",
        "    centroid = esstr.SpectralCentroidTime(sampleRate=sample_rate)\n",
        "    pitch = esstr.PitchYin(sampleRate=sample_rate)\n",
        "\n",
        "    # Connect the algorithms\n",
        "    loader.audio >> fcut.signal\n",
        "    fcut.frame >> centroid.array\n",
        "    fcut.frame >> loudness.signal\n",
        "\n",
        "    fcut.frame >> pitch.signal\n",
        "   \n",
        "    loader.audio >> gain.signal\n",
        "    loader.audio >> leq.signal\n",
        "    \n",
        "    # Create a pool and output algorithms\n",
        "    gain.replayGain >> (pool, 'gain')\n",
        "    leq.leq >> (pool, 'leq')\n",
        "    loudness.loudness >> (pool, 'loudness')\n",
        "    centroid.centroid >> (pool, 'centroid')\n",
        "    pitch.pitch >> (pool, 'pitch')\n",
        "    pitch.pitchConfidence >> (pool, 'confidence')\n",
        "\n",
        "    # Run the network\n",
        "    es.run(loader)\n",
        "\n",
        "    aggrpool = estd.PoolAggregator(defaultStats = [\"mean\"])(pool)    \n",
        "    descriptors = aggrpool.descriptorNames()\n",
        "\n",
        "    features['file'].append(file)\n",
        "    for feature in ['gain', 'leq', 'loudness.mean', 'centroid.mean', 'pitch.mean', 'confidence.mean']:\n",
        "        features[feature].append(np.array(aggrpool[feature]).flatten()[0])"
      ]
    },
    {
      "cell_type": "code",
      "execution_count": 21,
      "metadata": {},
      "outputs": [
        {
          "data": {
            "text/html": [
              "<div>\n",
              "<style scoped>\n",
              "    .dataframe tbody tr th:only-of-type {\n",
              "        vertical-align: middle;\n",
              "    }\n",
              "\n",
              "    .dataframe tbody tr th {\n",
              "        vertical-align: top;\n",
              "    }\n",
              "\n",
              "    .dataframe thead th {\n",
              "        text-align: right;\n",
              "    }\n",
              "</style>\n",
              "<table border=\"1\" class=\"dataframe\">\n",
              "  <thead>\n",
              "    <tr style=\"text-align: right;\">\n",
              "      <th></th>\n",
              "      <th>file</th>\n",
              "      <th>gain</th>\n",
              "      <th>leq</th>\n",
              "      <th>loudness.mean</th>\n",
              "      <th>centroid.mean</th>\n",
              "      <th>pitch.mean</th>\n",
              "      <th>confidence.mean</th>\n",
              "    </tr>\n",
              "  </thead>\n",
              "  <tbody>\n",
              "    <tr>\n",
              "      <th>0</th>\n",
              "      <td>stack_X_train.wav</td>\n",
              "      <td>-14.637999</td>\n",
              "      <td>-13.887016</td>\n",
              "      <td>16.051226</td>\n",
              "      <td>521.483887</td>\n",
              "      <td>307.889252</td>\n",
              "      <td>0.823851</td>\n",
              "    </tr>\n",
              "    <tr>\n",
              "      <th>1</th>\n",
              "      <td>stack_Y_train.wav</td>\n",
              "      <td>-13.318653</td>\n",
              "      <td>-13.819608</td>\n",
              "      <td>14.396057</td>\n",
              "      <td>405.577423</td>\n",
              "      <td>185.402359</td>\n",
              "      <td>0.873128</td>\n",
              "    </tr>\n",
              "    <tr>\n",
              "      <th>2</th>\n",
              "      <td>stack_X_test.wav</td>\n",
              "      <td>-14.182983</td>\n",
              "      <td>-13.924203</td>\n",
              "      <td>15.991994</td>\n",
              "      <td>532.250549</td>\n",
              "      <td>320.232727</td>\n",
              "      <td>0.914771</td>\n",
              "    </tr>\n",
              "    <tr>\n",
              "      <th>3</th>\n",
              "      <td>stack_Y_test.wav</td>\n",
              "      <td>-13.199451</td>\n",
              "      <td>-13.639116</td>\n",
              "      <td>14.902899</td>\n",
              "      <td>438.282959</td>\n",
              "      <td>176.488449</td>\n",
              "      <td>0.871816</td>\n",
              "    </tr>\n",
              "  </tbody>\n",
              "</table>\n",
              "</div>"
            ],
            "text/plain": [
              "                file       gain        leq  loudness.mean  centroid.mean  \\\n",
              "0  stack_X_train.wav -14.637999 -13.887016      16.051226     521.483887   \n",
              "1  stack_Y_train.wav -13.318653 -13.819608      14.396057     405.577423   \n",
              "2   stack_X_test.wav -14.182983 -13.924203      15.991994     532.250549   \n",
              "3   stack_Y_test.wav -13.199451 -13.639116      14.902899     438.282959   \n",
              "\n",
              "   pitch.mean  confidence.mean  \n",
              "0  307.889252         0.823851  \n",
              "1  185.402359         0.873128  \n",
              "2  320.232727         0.914771  \n",
              "3  176.488449         0.871816  "
            ]
          },
          "execution_count": 21,
          "metadata": {},
          "output_type": "execute_result"
        }
      ],
      "source": [
        "df = pd.DataFrame(features)\n",
        "df"
      ]
    },
    {
      "cell_type": "code",
      "execution_count": 22,
      "metadata": {},
      "outputs": [
        {
          "data": {
            "image/png": "[encoded data removed]",
            "text/plain": [
              "<Figure size 1000x400 with 2 Axes>"
            ]
          },
          "metadata": {},
          "output_type": "display_data"
        }
      ],
      "source": [
        "summary_df = df.set_index('file')\n",
        "\n",
        "plt.figure(figsize=(10,4))\n",
        "heatmap = sns.heatmap(summary_df.astype(float), annot=True, fmt=\".3f\", cmap='RdBu')\n",
        "\n",
        "plt.title('Heatmap of Mean Values')\n",
        "plt.xlabel('Descriptors')\n",
        "\n",
        "heatmap.set_yticklabels(heatmap.get_yticklabels(), rotation=45)\n",
        "heatmap.set_xticklabels(heatmap.get_xticklabels(), rotation=45)\n",
        "\n",
        "plt.show()"
      ]
    },
    {
      "attachments": {},
      "cell_type": "markdown",
      "metadata": {},
      "source": [
        "## Some audio features computed with librosa and torchaudio "
      ]
    },
    {
      "cell_type": "code",
      "execution_count": 23,
      "metadata": {},
      "outputs": [],
      "source": [
        "def compute_audio_features(path, sample_rate):\n",
        "    # Load audio file\n",
        "    waveform, _ = torchaudio.load(path)\n",
        "    \n",
        "    # Compute loudness\n",
        "    loudness_transform = torchaudio.transforms.Loudness(sample_rate)\n",
        "    loudness = loudness_transform(waveform).item()\n",
        "    \n",
        "    # Compute spectral centroid with torchaudio\n",
        "    centroid_transform = torchaudio.transforms.SpectralCentroid(sample_rate)\n",
        "    centroid_torchaudio = centroid_transform(waveform).mean().item()\n",
        "    \n",
        "    # Compute spectral centroid with librosa\n",
        "    audio, _ = librosa.load(path, sr=sample_rate)\n",
        "    centroid_librosa, std_librosa = librosa.feature.spectral_centroid(y=audio, sr=sample_rate)[0].mean(), \\\n",
        "                                     librosa.feature.spectral_centroid(y=audio, sr=sample_rate)[0].std()\n",
        "    \n",
        "    return loudness, centroid_torchaudio, centroid_librosa, std_librosa"
      ]
    },
    {
      "cell_type": "code",
      "execution_count": 24,
      "metadata": {},
      "outputs": [],
      "source": [
        "files = [\"stack_X_train.wav\", \"stack_Y_train.wav\", \"stack_X_test.wav\", \"stack_Y_test.wav\"]\n",
        "df_librosa = pd.DataFrame()\n",
        "\n",
        "# Iterate over the files\n",
        "for file in files:\n",
        "    # Set the full path\n",
        "    full_path = os.path.join(CONVERTED_DIR, file)\n",
        "    \n",
        "    # Compute the features\n",
        "    loudness, centroid_torch, centroid_librosa, std_librosa = compute_audio_features(full_path, sample_rate)\n",
        "    \n",
        "    # Create a dictionary to store the features\n",
        "    features = {'filename': file,\n",
        "                'loudness': loudness,\n",
        "                'centroid_torchaudio': centroid_torch,\n",
        "                'centroid_librosa': centroid_librosa,\n",
        "                'std_librosa': std_librosa}\n",
        "    \n",
        "    # Convert to DataFrame\n",
        "    df_current = pd.DataFrame([features])\n",
        "\n",
        "    # Append to the main DataFrame\n",
        "    df_librosa = pd.concat([df_librosa, df_current])\n",
        "\n",
        "# Reset the index of the DataFrame\n",
        "df_librosa.reset_index(drop=True, inplace=True)"
      ]
    },
    {
      "cell_type": "code",
      "execution_count": 25,
      "metadata": {},
      "outputs": [
        {
          "data": {
            "text/html": [
              "<div>\n",
              "<style scoped>\n",
              "    .dataframe tbody tr th:only-of-type {\n",
              "        vertical-align: middle;\n",
              "    }\n",
              "\n",
              "    .dataframe tbody tr th {\n",
              "        vertical-align: top;\n",
              "    }\n",
              "\n",
              "    .dataframe thead th {\n",
              "        text-align: right;\n",
              "    }\n",
              "</style>\n",
              "<table border=\"1\" class=\"dataframe\">\n",
              "  <thead>\n",
              "    <tr style=\"text-align: right;\">\n",
              "      <th></th>\n",
              "      <th>filename</th>\n",
              "      <th>loudness</th>\n",
              "      <th>centroid_torchaudio</th>\n",
              "      <th>centroid_librosa</th>\n",
              "      <th>std_librosa</th>\n",
              "    </tr>\n",
              "  </thead>\n",
              "  <tbody>\n",
              "    <tr>\n",
              "      <th>0</th>\n",
              "      <td>stack_X_train.wav</td>\n",
              "      <td>-13.617</td>\n",
              "      <td>NaN</td>\n",
              "      <td>739.742</td>\n",
              "      <td>731.037</td>\n",
              "    </tr>\n",
              "    <tr>\n",
              "      <th>1</th>\n",
              "      <td>stack_Y_train.wav</td>\n",
              "      <td>-13.333</td>\n",
              "      <td>756.671</td>\n",
              "      <td>752.619</td>\n",
              "      <td>813.788</td>\n",
              "    </tr>\n",
              "    <tr>\n",
              "      <th>2</th>\n",
              "      <td>stack_X_test.wav</td>\n",
              "      <td>-13.740</td>\n",
              "      <td>NaN</td>\n",
              "      <td>745.500</td>\n",
              "      <td>747.728</td>\n",
              "    </tr>\n",
              "    <tr>\n",
              "      <th>3</th>\n",
              "      <td>stack_Y_test.wav</td>\n",
              "      <td>-12.927</td>\n",
              "      <td>791.452</td>\n",
              "      <td>778.968</td>\n",
              "      <td>839.298</td>\n",
              "    </tr>\n",
              "  </tbody>\n",
              "</table>\n",
              "</div>"
            ],
            "text/plain": [
              "            filename  loudness  centroid_torchaudio  centroid_librosa  \\\n",
              "0  stack_X_train.wav   -13.617                  NaN           739.742   \n",
              "1  stack_Y_train.wav   -13.333              756.671           752.619   \n",
              "2   stack_X_test.wav   -13.740                  NaN           745.500   \n",
              "3   stack_Y_test.wav   -12.927              791.452           778.968   \n",
              "\n",
              "   std_librosa  \n",
              "0      731.037  \n",
              "1      813.788  \n",
              "2      747.728  \n",
              "3      839.298  "
            ]
          },
          "execution_count": 25,
          "metadata": {},
          "output_type": "execute_result"
        }
      ],
      "source": [
        "# Round to 3 decimal places\n",
        "df_librosa = df_librosa.round(3)\n",
        "\n",
        "df_librosa"
      ]
    },
    {
      "cell_type": "code",
      "execution_count": 28,
      "metadata": {},
      "outputs": [
        {
          "name": "stdout",
          "output_type": "stream",
          "text": [
            "Files in directory: data/springset_converted\n",
            "\n",
            "Processing file: data/springset_converted/stack_Y_train.wav\n",
            "Length in data/springset_converted/stack_Y_train.wav: 2 minutes, 8.00 seconds\n",
            "Number of elements in data/springset_converted/stack_Y_train.wav: 2822400\n",
            "\n",
            "Processing file: data/springset_converted/stack_X_test.wav\n",
            "Length in data/springset_converted/stack_X_test.wav: 2 minutes, 8.00 seconds\n",
            "Number of elements in data/springset_converted/stack_X_test.wav: 2822400\n",
            "\n",
            "Processing file: data/springset_converted/stack_Y_test.wav\n",
            "Length in data/springset_converted/stack_Y_test.wav: 2 minutes, 8.00 seconds\n",
            "Number of elements in data/springset_converted/stack_Y_test.wav: 2822400\n",
            "\n",
            "Processing file: data/springset_converted/stack_X_train.wav\n",
            "Length in data/springset_converted/stack_X_train.wav: 2 minutes, 8.00 seconds\n",
            "Number of elements in data/springset_converted/stack_X_train.wav: 2822400\n",
            "\n"
          ]
        }
      ],
      "source": [
        "def get_media_length(file_path):\n",
        "    \"\"\"\n",
        "    Function to get the length of audio files in a directory.\n",
        "    Supported file types: .wav, .wave, .h5\n",
        "    \n",
        "    Parameters\n",
        "    ----------\n",
        "    file_path : str\n",
        "        Path to the directory containing the audio files.\n",
        "    \"\"\"\n",
        "    file_list = os.listdir(file_path)\n",
        "    print(f\"Files in directory: {file_path}\")\n",
        "    print(\"\")\n",
        "\n",
        "    for file_name in file_list:\n",
        "        single_file_path = os.path.join(file_path, file_name)\n",
        "        print(f\"Processing file: {single_file_path}\")\n",
        "\n",
        "        if single_file_path.endswith(('.h5')):\n",
        "            with h5py.File(single_file_path, 'r') as f:\n",
        "                sample_rate = sample_rate\n",
        "                total_length_samples = 0\n",
        "                total_number_of_frames = 0\n",
        "\n",
        "                for dataset_key in f.keys():\n",
        "                    audio_data = f[dataset_key][:]\n",
        "                    num_samples = audio_data.shape[0]\n",
        "                    audio_length_samples = audio_data.shape[1]\n",
        "                    total_length_samples += audio_length_samples\n",
        "                    total_number_of_frames += num_samples\n",
        "\n",
        "                total_length_seconds = total_length_samples / sample_rate\n",
        "                minutes, seconds = divmod(total_length_seconds, 60)\n",
        "                print(f\"Length in {single_file_path}: {int(minutes)} minutes, {seconds:.2f} seconds\")\n",
        "                print(f\"Number of elements in {single_file_path}: {total_number_of_frames}\")\n",
        "\n",
        "        elif single_file_path.endswith(('.wav', '.wave')):\n",
        "            audio_data, sample_rate = librosa.load(single_file_path)\n",
        "            total_length_samples = audio_data.shape[0]\n",
        "            total_length_seconds = total_length_samples / sample_rate\n",
        "            total_number_of_frames = total_length_samples\n",
        "            minutes, seconds = divmod(total_length_seconds, 60)\n",
        "            print(f\"Length in {single_file_path}: {int(minutes)} minutes, {seconds:.2f} seconds\")\n",
        "            print(f\"Number of elements in {single_file_path}: {total_number_of_frames}\")\n",
        "            \n",
        "        else:\n",
        "            print(f\"Skipping {single_file_path} (unsupported file type)\")\n",
        "        \n",
        "        print(\"\")\n",
        "\n",
        "get_media_length(CONVERTED_DIR)"
      ]
    }
  ],
  "metadata": {
    "colab": {
      "include_colab_link": true,
      "provenance": []
    },
    "gpuClass": "standard",
    "kernelspec": {
      "display_name": "Python 3",
      "name": "python3"
    },
    "language_info": {
      "codemirror_mode": {
        "name": "ipython",
        "version": 3
      },
      "file_extension": ".py",
      "mimetype": "text/x-python",
      "name": "python",
      "nbconvert_exporter": "python",
      "pygments_lexer": "ipython3",
      "version": "3.11.4"
    }
  },
  "nbformat": 4,
  "nbformat_minor": 0
}
